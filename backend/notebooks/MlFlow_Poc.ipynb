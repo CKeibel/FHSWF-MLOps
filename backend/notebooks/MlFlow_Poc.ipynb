{
 "cells": [
  {
   "cell_type": "markdown",
   "id": "d117e013",
   "metadata": {},
   "source": [
    "# ML_Ops POC"
   ]
  },
  {
   "cell_type": "code",
   "execution_count": 26,
   "id": "2e74d4b7",
   "metadata": {},
   "outputs": [],
   "source": [
    "import os\n",
    "\n",
    "import pandas as pd\n",
    "import numpy as np\n",
    "\n",
    "from sklearn.model_selection import train_test_split\n",
    "from sklearn.preprocessing import LabelEncoder, StandardScaler, MinMaxScaler\n",
    "from sklearn.linear_model import LogisticRegression\n",
    "from sklearn.metrics import accuracy_score, classification_report, f1_score\n",
    "from sklearn.ensemble import RandomForestClassifier\n",
    "import mlflow\n",
    "import mlflow.sklearn\n",
    "#import mlflow.tensorflow\n",
    "#import tensorflow as tf\n",
    "import joblib\n",
    "from sklearn.pipeline import Pipeline\n",
    "#from tensorflow import keras\n",
    "from mlflow.tracking import MlflowClient\n",
    "from mlflow.models import infer_signature\n",
    "from pathlib import Path\n"
   ]
  },
  {
   "cell_type": "code",
   "execution_count": 27,
   "id": "ad5c699b",
   "metadata": {},
   "outputs": [
    {
     "name": "stdout",
     "output_type": "stream",
     "text": [
      "c:\\Zeug Hendrik\\Studium\\Master FH Meschede\\5 Semester\\MLOps\\Project\\FHSWF-MLOps\\backend\\notebooks\n",
      "C:\\Zeug Hendrik\\Studium\\Master FH Meschede\\5 Semester\\MLOps\\Project\\FHSWF-MLOps\\data\\origin\\adult.csv\n"
     ]
    }
   ],
   "source": [
    "\n",
    "\n",
    "print(os.getcwd()) \n",
    "root_dir = Path(os.getcwd()).resolve().parent.parent\n",
    "columns = [\"age\", \"workclass\", \"fnlwgt\", \"education\", \"education-num\", \"marital-status\", \"occupation\", \"relationship\", \"race\", \"sex\", \"capital-gain\", \"capital-loss\", \"hours-per-week\", \"native-country\", \"income\"]\n",
    "test = root_dir / \"data\" / \"origin\" / \"adult.csv\"\n",
    "print(test)\n",
    "df = pd.read_csv(root_dir / \"data\" / \"origin\" / \"adult.csv\", names=columns, na_values=\" ?\", header=0)\n"
   ]
  },
  {
   "cell_type": "code",
   "execution_count": 28,
   "id": "250b1014",
   "metadata": {},
   "outputs": [
    {
     "name": "stderr",
     "output_type": "stream",
     "text": [
      "2025/02/27 20:00:44 INFO mlflow.tracking.fluent: Experiment with name 'Random_Forest' does not exist. Creating a new experiment.\n",
      "c:\\Zeug Hendrik\\Studium\\Master FH Meschede\\5 Semester\\MLOps\\Project\\FHSWF-MLOps\\venv\\Lib\\site-packages\\mlflow\\types\\utils.py:452: UserWarning: Hint: Inferred schema contains integer column(s). Integer columns in Python cannot represent missing values. If your input data contains missing values at inference time, it will be encoded as floats and will cause a schema enforcement error. The best way to avoid this problem is to infer the model schema based on a realistic data sample (training dataset) that includes missing values. Alternatively, you can declare integer columns as doubles (float64) whenever these columns may have missing values. See `Handling Integers With Missing Values <https://www.mlflow.org/docs/latest/models.html#handling-integers-with-missing-values>`_ for more details.\n",
      "  warnings.warn(\n"
     ]
    },
    {
     "data": {
      "application/vnd.jupyter.widget-view+json": {
       "model_id": "81c2189a3aef4831acf1e18d57eaa763",
       "version_major": 2,
       "version_minor": 0
      },
      "text/plain": [
       "Downloading artifacts:   0%|          | 0/7 [00:00<?, ?it/s]"
      ]
     },
     "metadata": {},
     "output_type": "display_data"
    },
    {
     "name": "stdout",
     "output_type": "stream",
     "text": [
      "Accuracy: 0.8651562713252354, F1 Score: 0.6873417721518987\n",
      "Model saved as model.joblib\n"
     ]
    },
    {
     "name": "stderr",
     "output_type": "stream",
     "text": [
      "Successfully registered model 'random_forest_pipeline'.\n",
      "Created version '1' of model 'random_forest_pipeline'.\n"
     ]
    }
   ],
   "source": [
    "root_dir = Path(os.getcwd()).resolve().parent.parent\n",
    "columns = [\"age\", \"workclass\", \"fnlwgt\", \"education\", \"education-num\", \"marital-status\", \"occupation\", \"relationship\", \"race\", \"sex\", \"capital-gain\", \"capital-loss\", \"hours-per-week\", \"native-country\", \"income\"]\n",
    "\n",
    "#df_read = pd.read_csv('Data/Income/adult.csv', names=columns, na_values=\" ?\", header=0)\n",
    "df = pd.read_csv(root_dir / \"data\" / \"origin\" / \"adult.csv\", names=columns, na_values=\" ?\", header=0)\n",
    "\n",
    "# Fehlende Werte entfernen\n",
    "df.dropna(inplace=True)\n",
    "\n",
    "# Zielvariable in boolschen Wert umwandeln\n",
    "df[\"income\"] = df[\"income\"].apply(lambda x: 1 if x == \">50K\" else 0)\n",
    "\n",
    "# Kategorische Variablen kodieren\n",
    "categorical_features = [\"workclass\", \"education\", \"marital-status\", \"occupation\", \"relationship\", \"race\", \"sex\", \"native-country\"]\n",
    "for col in categorical_features:\n",
    "    df[col] = LabelEncoder().fit_transform(df[col])\n",
    "\n",
    "df\n",
    "\n",
    "# Features und Zielvariable definieren\n",
    "X = df.drop(\"income\", axis=1)\n",
    "y = df[\"income\"]\n",
    "\n",
    "# Daten in Trainings- und Testset aufteilen\n",
    "X_train, X_test, y_train, y_test = train_test_split(X, y, test_size=0.15, random_state=42, stratify=y)\n",
    "\n",
    "\n",
    "pipeline = Pipeline([\n",
    "    ('scaler', MinMaxScaler()),\n",
    "    ('classifier', RandomForestClassifier(n_estimators=100, class_weight='balanced', random_state=42))\n",
    "])\n",
    "\n",
    "#mlflow.set_experiment(\"Logistic_Regression\")\n",
    "#with mlflow.start_run():\n",
    "    #model_lr = LogisticRegression(class_weight='balanced')\n",
    "    #model_lr.fit(X_train, y_train)\n",
    "    #y_pred_lr = model_lr.predict(X_test)\n",
    "    \n",
    "    #acc_lr = accuracy_score(y_test, y_pred_lr)\n",
    "    #mlflow.log_param(\"model\", \"LogisticRegression\")\n",
    "    #mlflow.log_metric(\"accuracy\", acc_lr)\n",
    "    #mlflow.sklearn.log_model(model_lr, \"model\")\n",
    "    \n",
    "    #print(f\"Logistic Regression Accuracy: {acc_lr:.4f}\")\n",
    "\n",
    "# MLflow Experiment: Random Forest\n",
    "mlflow.set_experiment(\"Random_Forest\")\n",
    "with mlflow.start_run() as run:\n",
    "    \n",
    "    pipeline.fit(X_train, y_train)\n",
    "    \n",
    "    # Vorhersagen & Metriken berechnen\n",
    "    y_pred_rf = pipeline.predict(X_test)\n",
    "\n",
    "    #model_rf = RandomForestClassifier(n_estimators=100, class_weight='balanced', random_state=42)\n",
    "    #model_rf.fit(X_train, y_train)\n",
    "    #y_pred_rf = model_rf.predict(X_test)\n",
    "    \n",
    "    acc_rf = accuracy_score(y_test, y_pred_rf)\n",
    "    f1 = f1_score(y_test, y_pred_rf)\n",
    "\n",
    "    signature = infer_signature(X_train, pipeline.predict(X_train))\n",
    "    input_example = pd.DataFrame(X_train[:5], columns=X.columns).to_dict(orient=\"records\")\n",
    "\n",
    "    mlflow.log_param(\"model\", \"RandomForestClassifier\")\n",
    "    mlflow.log_metric(\"accuracy\", acc_rf)\n",
    "    mlflow.log_metric(\"f1_score\", f1)\n",
    "    mlflow.sklearn.log_model(pipeline, \"random_forest_model\", signature=signature, input_example=input_example)\n",
    "    model_uri = f\"runs:/{run.info.run_id}/random_forest_pipeline\"\n",
    "    modelversion = mlflow.register_model(model_uri=model_uri, name=\"random_forest_pipeline\")\n",
    "    \n",
    "    client = MlflowClient()\n",
    "    client.set_registered_model_alias(name='random_forest_pipeline', alias='testalias', version=modelversion.version)\n",
    "    #client.transition_model_version_stage(name=\"random_forest_pipeline\", version=1, stage=\"Staging\")\n",
    "\n",
    "    \n",
    "    best_model = None\n",
    "    best_f1 = 0\n",
    "    for mv in client.search_model_versions(f\"name='random_forest_pipeline'\"):\n",
    "        if mv.current_stage == \"Staging\":\n",
    "            metrics = client.get_run(mv.run_id).data.metrics\n",
    "            if metrics[\"f1_score\"] > best_f1:\n",
    "                best_f1 = metrics[\"f1_score\"]\n",
    "                best_model = mv\n",
    "    \n",
    "    if best_model:\n",
    "        client.transition_model_version_stage(name=\"random_forest_pipeline\", version=best_model.version, stage=\"Production\")\n",
    "    \n",
    "\n",
    "    print(f\"Accuracy: {acc_rf}, F1 Score: {f1}\")\n",
    "\n",
    "joblib.dump(pipeline, \"model.joblib\")\n",
    "print(\"Model saved as model.joblib\")\n",
    "\n",
    "#mlflow.set_experiment(\"TensorFlow_NN\")\n",
    "#with mlflow.start_run() as run:\n",
    "    #model_tf = keras.Sequential([\n",
    "    #    keras.layers.Dense(64, activation='relu', input_shape=(X_train.shape[1],)),\n",
    "    #    keras.layers.Dense(32, activation='relu'),\n",
    "    #    keras.layers.Dense(1, activation='sigmoid')\n",
    "    #])\n",
    "    \n",
    "    #model_tf.compile(optimizer='adam', loss='binary_crossentropy', metrics=['accuracy'])\n",
    "    \n",
    "    #history = model_tf.fit(X_train, y_train, epochs=20, batch_size=32, validation_data=(X_test, y_test), verbose=0)\n",
    "    \n",
    "    #test_loss, test_acc = model_tf.evaluate(X_test, y_test, verbose=0)\n",
    "    \n",
    "    #mlflow.log_param(\"model\", \"TensorFlow_NN\")\n",
    "    #mlflow.log_metric(\"accuracy\", test_acc)\n",
    "    #mlflow.tensorflow.log_model(model_tf, \"model\")\n",
    "    \n",
    "    #print(f\"TensorFlow Neural Network Accuracy: {test_acc:.4f}\")\n",
    "\n",
    "    #model_name = \"TensorFlow_NN_Model\"\n",
    "    #model_uri = f\"runs:/{run.info.run_id}/model\"\n",
    "    #mlflow.register_model(model_uri, model_name)\n",
    "    \n",
    "    # Model Stage auf Staging setzen\n",
    "    #client = MlflowClient()\n",
    "    #model_version = client.get_latest_versions(model_name, stages=[\"None\"])[0].version\n",
    "    #client.transition_model_version_stage(name=model_name, version=model_version, stage=\"Staging\")\n",
    "    \n",
    "    #print(f\"Model {model_name} Version {model_version} moved to Staging\")\n"
   ]
  },
  {
   "cell_type": "code",
   "execution_count": 13,
   "id": "7e9c6633",
   "metadata": {},
   "outputs": [],
   "source": [
    "import mlflow\n",
    "import pandas as pd\n",
    "\n",
    "# FastAPI Initialisierung\n",
    "#app = FastAPI()\n",
    "\n",
    "# MLflow Client\n",
    "client = mlflow.tracking.MlflowClient()\n",
    "\n",
    "# Bestes Modell aus MLflow Production laden\n",
    "model_name = \"random_forest_pipeline\"\n",
    "try:\n",
    "    #model_uri = f\"models:/{model_name}/Production\"\n",
    "    model = client.get_model_version_by_alias('random_forest_pipeline','testalias')\n",
    "except Exception as e:\n",
    "    model = None\n",
    "    print(f\"Fehler beim Laden des Modells: {e}\")"
   ]
  }
 ],
 "metadata": {
  "kernelspec": {
   "display_name": "venv",
   "language": "python",
   "name": "python3"
  },
  "language_info": {
   "codemirror_mode": {
    "name": "ipython",
    "version": 3
   },
   "file_extension": ".py",
   "mimetype": "text/x-python",
   "name": "python",
   "nbconvert_exporter": "python",
   "pygments_lexer": "ipython3",
   "version": "3.12.2"
  }
 },
 "nbformat": 4,
 "nbformat_minor": 5
}
